{
 "cells": [
  {
   "cell_type": "code",
   "execution_count": 1,
   "id": "9321dd56",
   "metadata": {},
   "outputs": [],
   "source": [
    "import numpy as np\n",
    "import matplotlib.pyplot as plt"
   ]
  },
  {
   "cell_type": "code",
   "execution_count": 2,
   "id": "99954650",
   "metadata": {},
   "outputs": [],
   "source": [
    "#parameters\n",
    "L = 8\n",
    "T = 1\n",
    "J = 1\n",
    "steps = 700\n",
    "m_avg = 0\n",
    "\n",
    "N = L**3\n",
    "theta = np.zeros((L,L,L))\n",
    "for i in range(L):\n",
    "    for j in range(L):\n",
    "        for k in range(L):\n",
    "            theta[i,j,k] = np.random.uniform(0,2*np.pi)"
   ]
  },
  {
   "cell_type": "code",
   "execution_count": 3,
   "id": "3e784a88",
   "metadata": {},
   "outputs": [],
   "source": [
    "def find_neighbors(i,j,k):\n",
    "    coord = np.array(np.meshgrid([i-1,i+1],[j],[k])).T.reshape(-1,3)\n",
    "    coord = np.vstack((coord,np.array(np.meshgrid([i],[j-1,j+1],[k])).T.reshape(-1,3)))\n",
    "    coord = np.vstack((coord,np.array(np.meshgrid([i],[j],[k-1,k+1])).T.reshape(-1,3)))\n",
    "    coord = coord[~(coord == -1).any(1),:]\n",
    "    coord = coord[~(coord == L).any(1),:]\n",
    "    return coord"
   ]
  },
  {
   "cell_type": "code",
   "execution_count": 4,
   "id": "d649bd1f",
   "metadata": {},
   "outputs": [],
   "source": [
    "def energy_per_site(i,j,k):\n",
    "    coord = find_neighbors(i,j,k)\n",
    "    l = np.ravel_multi_index(coord.T, theta.shape)\n",
    "    E = -J*np.sum(np.cos(theta[i,j,k] - theta.take(l)))\n",
    "    return E"
   ]
  },
  {
   "cell_type": "code",
   "execution_count": 5,
   "id": "12316417",
   "metadata": {},
   "outputs": [],
   "source": [
    "def flip():\n",
    "    i = np.random.randint(0,L)\n",
    "    j = np.random.randint(0,L)\n",
    "    k = np.random.randint(0,L)\n",
    "    theta_b = theta[i,j,k]\n",
    "    E_b = energy_per_site(i,j,k)\n",
    "    theta[i,j,k] = np.random.uniform(0,2*np.pi)\n",
    "    dE = energy_per_site(i,j,k) - E_b\n",
    "    if dE < 0:\n",
    "        return True\n",
    "    elif (np.exp(-dE/T) > np.random.uniform(0,1)):\n",
    "        return True\n",
    "    else:\n",
    "        theta[i,j,k] = theta_b\n",
    "        return False"
   ]
  },
  {
   "cell_type": "code",
   "execution_count": 6,
   "id": "c7bb7f82",
   "metadata": {},
   "outputs": [],
   "source": [
    "def MCMC():\n",
    "    accept = 0\n",
    "    for i in range(N):\n",
    "        v = flip()\n",
    "        if v:\n",
    "            accept += 1\n",
    "    ratio = accept/N   \n",
    "    return ratio"
   ]
  },
  {
   "cell_type": "code",
   "execution_count": 7,
   "id": "b2453797",
   "metadata": {},
   "outputs": [],
   "source": [
    "def magnetization():\n",
    "    mx = 0\n",
    "    my = 0\n",
    "    for i in range(L):\n",
    "        for j in range(L):\n",
    "            for k in range(L):\n",
    "                mx += np.cos(theta[i,j,k])\n",
    "                my += np.sin(theta[i,j,k])\n",
    "    return np.sqrt(mx**2 + my**2)/N"
   ]
  },
  {
   "cell_type": "code",
   "execution_count": 8,
   "id": "0c50fdf3",
   "metadata": {},
   "outputs": [],
   "source": [
    "def runMCMC():\n",
    "    m = np.zeros(steps)\n",
    "    for l in range(steps):\n",
    "        m[l] = magnetization()\n",
    "        MCMC()\n",
    "    m_abs = np.average(np.abs(m))\n",
    "    return m_abs"
   ]
  },
  {
   "cell_type": "code",
   "execution_count": 9,
   "id": "0ab98977",
   "metadata": {},
   "outputs": [
    {
     "ename": "AttributeError",
     "evalue": "module 'numpy' has no attribute 'avg'",
     "output_type": "error",
     "traceback": [
      "\u001b[0;31m---------------------------------------------------------------------------\u001b[0m",
      "\u001b[0;31mAttributeError\u001b[0m                            Traceback (most recent call last)",
      "Cell \u001b[0;32mIn [9], line 5\u001b[0m\n\u001b[1;32m      3\u001b[0m \u001b[38;5;28;01mfor\u001b[39;00m i \u001b[38;5;129;01min\u001b[39;00m \u001b[38;5;28mrange\u001b[39m(\u001b[38;5;28mlen\u001b[39m(Ts)):\n\u001b[1;32m      4\u001b[0m     T \u001b[38;5;241m=\u001b[39m Ts[i]\n\u001b[0;32m----> 5\u001b[0m     m_avg[i] \u001b[38;5;241m=\u001b[39m \u001b[43mrunMCMC\u001b[49m\u001b[43m(\u001b[49m\u001b[43m)\u001b[49m\n",
      "Cell \u001b[0;32mIn [8], line 6\u001b[0m, in \u001b[0;36mrunMCMC\u001b[0;34m()\u001b[0m\n\u001b[1;32m      4\u001b[0m     m[l] \u001b[38;5;241m=\u001b[39m magnetization()\n\u001b[1;32m      5\u001b[0m     MCMC()\n\u001b[0;32m----> 6\u001b[0m m_abs \u001b[38;5;241m=\u001b[39m \u001b[43mnp\u001b[49m\u001b[38;5;241;43m.\u001b[39;49m\u001b[43mavg\u001b[49m(np\u001b[38;5;241m.\u001b[39mabs(m))\n\u001b[1;32m      7\u001b[0m \u001b[38;5;28;01mreturn\u001b[39;00m m_abs\n",
      "File \u001b[0;32m/usr/local/lib/python3.10/site-packages/numpy/__init__.py:311\u001b[0m, in \u001b[0;36m__getattr__\u001b[0;34m(attr)\u001b[0m\n\u001b[1;32m    308\u001b[0m     \u001b[38;5;28;01mfrom\u001b[39;00m \u001b[38;5;21;01m.\u001b[39;00m\u001b[38;5;21;01mtesting\u001b[39;00m \u001b[38;5;28;01mimport\u001b[39;00m Tester\n\u001b[1;32m    309\u001b[0m     \u001b[38;5;28;01mreturn\u001b[39;00m Tester\n\u001b[0;32m--> 311\u001b[0m \u001b[38;5;28;01mraise\u001b[39;00m \u001b[38;5;167;01mAttributeError\u001b[39;00m(\u001b[38;5;124m\"\u001b[39m\u001b[38;5;124mmodule \u001b[39m\u001b[38;5;132;01m{!r}\u001b[39;00m\u001b[38;5;124m has no attribute \u001b[39m\u001b[38;5;124m\"\u001b[39m\n\u001b[1;32m    312\u001b[0m                      \u001b[38;5;124m\"\u001b[39m\u001b[38;5;132;01m{!r}\u001b[39;00m\u001b[38;5;124m\"\u001b[39m\u001b[38;5;241m.\u001b[39mformat(\u001b[38;5;18m__name__\u001b[39m, attr))\n",
      "\u001b[0;31mAttributeError\u001b[0m: module 'numpy' has no attribute 'avg'"
     ]
    }
   ],
   "source": [
    "Ts = np.linspace(0.1,3,30)\n",
    "m_avg = np.zeros(len(Ts))\n",
    "for i in range(len(Ts)):\n",
    "    T = Ts[i]\n",
    "    m_avg[i] = runMCMC()"
   ]
  },
  {
   "cell_type": "code",
   "execution_count": 10,
   "id": "a911e63f",
   "metadata": {},
   "outputs": [
    {
     "ename": "NameError",
     "evalue": "name 'm' is not defined",
     "output_type": "error",
     "traceback": [
      "\u001b[0;31m---------------------------------------------------------------------------\u001b[0m",
      "\u001b[0;31mNameError\u001b[0m                                 Traceback (most recent call last)",
      "Cell \u001b[0;32mIn [10], line 1\u001b[0m\n\u001b[0;32m----> 1\u001b[0m m_abs \u001b[38;5;241m=\u001b[39m np\u001b[38;5;241m.\u001b[39maverage(np\u001b[38;5;241m.\u001b[39mabs(\u001b[43mm\u001b[49m))\n\u001b[1;32m      2\u001b[0m plt\u001b[38;5;241m.\u001b[39mfigure()\n\u001b[1;32m      3\u001b[0m plt\u001b[38;5;241m.\u001b[39mplot(Ts,m_avg,\u001b[38;5;124m'\u001b[39m\u001b[38;5;124mk.-\u001b[39m\u001b[38;5;124m'\u001b[39m)\n",
      "\u001b[0;31mNameError\u001b[0m: name 'm' is not defined"
     ]
    }
   ],
   "source": [
    "plt.figure()\n",
    "plt.plot(Ts,m_avg,'k.-')\n",
    "plt.xlabel('$T$')\n",
    "plt.ylabel('$|m|$')\n",
    "plt.show()"
   ]
  },
  {
   "cell_type": "code",
   "execution_count": null,
   "id": "783376e1",
   "metadata": {},
   "outputs": [],
   "source": []
  }
 ],
 "metadata": {
  "kernelspec": {
   "display_name": "Python 3 (ipykernel)",
   "language": "python",
   "name": "python3"
  },
  "language_info": {
   "codemirror_mode": {
    "name": "ipython",
    "version": 3
   },
   "file_extension": ".py",
   "mimetype": "text/x-python",
   "name": "python",
   "nbconvert_exporter": "python",
   "pygments_lexer": "ipython3",
   "version": "3.10.8"
  }
 },
 "nbformat": 4,
 "nbformat_minor": 5
}
