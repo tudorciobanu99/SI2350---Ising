{
 "cells": [
  {
   "cell_type": "code",
   "execution_count": 1,
   "id": "b447f25b",
   "metadata": {},
   "outputs": [],
   "source": [
    "import numpy as np\n",
    "import matplotlib.pyplot as plt"
   ]
  },
  {
   "cell_type": "code",
   "execution_count": 2,
   "id": "251375df",
   "metadata": {},
   "outputs": [],
   "source": [
    "#parameters\n",
    "L = 8\n",
    "T = 1\n",
    "J = 1\n",
    "steps = 700\n",
    "m_avg = 0\n",
    "\n",
    "N = L**3\n",
    "theta = np.zeros((L,L,L))\n",
    "for i in range(L):\n",
    "    for j in range(L):\n",
    "        for k in range(L):\n",
    "            theta[i,j,k] = np.random.uniform(0,2*np.pi)"
   ]
  },
  {
   "cell_type": "code",
   "execution_count": 3,
   "id": "97913a62",
   "metadata": {},
   "outputs": [],
   "source": [
    "def find_neighbors(i,j,k):\n",
    "    coord = np.array(np.meshgrid([i-1,i+1],[j],[k])).T.reshape(-1,3)\n",
    "    coord = np.vstack((coord,np.array(np.meshgrid([i],[j-1,j+1],[k])).T.reshape(-1,3)))\n",
    "    coord = np.vstack((coord,np.array(np.meshgrid([i],[j],[k-1,k+1])).T.reshape(-1,3)))\n",
    "    coord = coord[~(coord == -1).any(1),:]\n",
    "    coord = coord[~(coord == L).any(1),:]\n",
    "    return coord"
   ]
  },
  {
   "cell_type": "code",
   "execution_count": 4,
   "id": "fbe49262",
   "metadata": {},
   "outputs": [],
   "source": [
    "def energy_per_site(i,j,k):\n",
    "    coord = find_neighbors(i,j,k)\n",
    "    l = np.ravel_multi_index(coord.T, theta.shape)\n",
    "    E = -J*np.sum(np.cos(theta[i,j,k] - theta.take(l)))\n",
    "    return E"
   ]
  },
  {
   "cell_type": "code",
   "execution_count": 5,
   "id": "4c6baba2",
   "metadata": {},
   "outputs": [],
   "source": [
    "def flip():\n",
    "    i = np.random.randint(0,L)\n",
    "    j = np.random.randint(0,L)\n",
    "    k = np.random.randint(0,L)\n",
    "    theta_b = theta[i,j,k]\n",
    "    E_b = energy_per_site(i,j,k)\n",
    "    theta[i,j,k] = np.random.uniform(0,2*np.pi)\n",
    "    dE = energy_per_site(i,j,k) - E_b\n",
    "    if dE < 0:\n",
    "        return True\n",
    "    elif (np.exp(-dE/T) > np.random.uniform(0,1)):\n",
    "        return True\n",
    "    else:\n",
    "        theta[i,j,k] = theta_b\n",
    "        return False"
   ]
  },
  {
   "cell_type": "code",
   "execution_count": 6,
   "id": "5c63267e",
   "metadata": {},
   "outputs": [],
   "source": [
    "def MCMC():\n",
    "    accept = 0\n",
    "    for i in range(N):\n",
    "        v = flip()\n",
    "        if v:\n",
    "            accept += 1\n",
    "    ratio = accept/N   \n",
    "    return ratio"
   ]
  },
  {
   "cell_type": "code",
   "execution_count": 7,
   "id": "e18575e0",
   "metadata": {},
   "outputs": [],
   "source": [
    "def magnetization():\n",
    "    mx = 0\n",
    "    my = 0\n",
    "    for i in range(L):\n",
    "        for j in range(L):\n",
    "            for k in range(L):\n",
    "                mx += np.cos(theta[i,j,k])\n",
    "                my += np.sin(theta[i,j,k])\n",
    "    return np.sqrt(mx**2 + my**2)/N"
   ]
  },
  {
   "cell_type": "code",
   "execution_count": 8,
   "id": "16630ce4",
   "metadata": {},
   "outputs": [],
   "source": [
    "def runMCMC():\n",
    "    m = np.zeros(steps)\n",
    "    for l in range(steps):\n",
    "        m[l] = magnetization()\n",
    "        MCMC()\n",
    "    m_abs = np.average(np.abs(m))\n",
    "    return m_abs"
   ]
  },
  {
   "cell_type": "code",
   "execution_count": 9,
   "id": "333a94b4",
   "metadata": {},
   "outputs": [],
   "source": [
    "Ts = np.linspace(0.1,3,30)\n",
    "m_avg = np.zeros(len(Ts))\n",
    "for i in range(len(Ts)):\n",
    "    T = Ts[i]\n",
    "    m_avg[i] = runMCMC()"
   ]
  },
  {
   "cell_type": "code",
   "execution_count": 10,
   "id": "ee2f7f01",
   "metadata": {},
   "outputs": [
    {
     "data": {
      "image/png": "[encoded data removed]",
      "text/plain": [
       "<Figure size 640x480 with 1 Axes>"
      ]
     },
     "metadata": {},
     "output_type": "display_data"
    }
   ],
   "source": [
    "plt.figure()\n",
    "plt.plot(Ts,m_avg,'k.-')\n",
    "plt.xlabel('$T$')\n",
    "plt.ylabel('$|m|$')\n",
    "plt.show()"
   ]
  },
  {
   "cell_type": "code",
   "execution_count": null,
   "id": "0101383b",
   "metadata": {},
   "outputs": [],
   "source": []
  }
 ],
 "metadata": {
  "kernelspec": {
   "display_name": "Python 3 (ipykernel)",
   "language": "python",
   "name": "python3"
  },
  "language_info": {
   "codemirror_mode": {
    "name": "ipython",
    "version": 3
   },
   "file_extension": ".py",
   "mimetype": "text/x-python",
   "name": "python",
   "nbconvert_exporter": "python",
   "pygments_lexer": "ipython3",
   "version": "3.10.8"
  }
 },
 "nbformat": 4,
 "nbformat_minor": 5
}
