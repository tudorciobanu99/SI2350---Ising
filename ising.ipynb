{
 "cells": [
  {
   "cell_type": "code",
   "execution_count": 1,
   "id": "b447f25b",
   "metadata": {},
   "outputs": [],
   "source": [
    "import numpy as np\n",
    "import matplotlib.pyplot as plt"
   ]
  },
  {
   "cell_type": "code",
   "execution_count": 2,
   "id": "251375df",
   "metadata": {},
   "outputs": [],
   "source": [
    "#parameters\n",
    "L = 8\n",
    "T = 1\n",
    "J = 1\n",
    "steps = 5000\n",
    "m_avg = 0\n",
    "\n",
    "N = L**3\n",
    "theta = np.zeros((L,L,L))\n",
    "for i in range(L):\n",
    "    for j in range(L):\n",
    "        for k in range(L):\n",
    "            theta[i,j,k] = np.random.uniform(0,2*np.pi)"
   ]
  },
  {
   "cell_type": "code",
   "execution_count": 3,
   "id": "fc96b28f",
   "metadata": {},
   "outputs": [],
   "source": [
    "def find_neighbors(i,j,k):\n",
    "    # PBC\n",
    "    index = [L-1 if i == 0 else i-1, 0 if i == L-1 else i+1, L-1 if j == 0 else j-1, 0 if j == L-1 else j+1, L-1 if k == 0 else k-1, 0 if k == L-1 else k+1]\n",
    "    return index"
   ]
  },
  {
   "cell_type": "code",
   "execution_count": 4,
   "id": "6712f3c2",
   "metadata": {},
   "outputs": [],
   "source": [
    "def energy_per_site(i,j,k):\n",
    "    index = find_neighbors(i,j,k)\n",
    "    E = -J*(np.cos(theta[i,j,k] - theta[index[0],j,k])\n",
    "    + np.cos(theta[index[1],j,k] - theta[i,j,k])\n",
    "    + np.cos(theta[i,j,k] - theta[i,index[2],k])\n",
    "    + np.cos(theta[i,index[3],k] - theta[i,j,k])\n",
    "    + np.cos(theta[i,j,k] - theta[i,j,index[4]])\n",
    "    + np.cos(theta[i,j,index[5]] - theta[i,j,k]))\n",
    "    return E"
   ]
  },
  {
   "cell_type": "code",
   "execution_count": 5,
   "id": "4c6baba2",
   "metadata": {},
   "outputs": [],
   "source": [
    "def flip():\n",
    "    i = np.random.randint(0,L)\n",
    "    j = np.random.randint(0,L)\n",
    "    k = np.random.randint(0,L)\n",
    "    theta_b = theta[i,j,k]\n",
    "    E_b = energy_per_site(i,j,k)\n",
    "    theta[i,j,k] = np.random.uniform(0,2*np.pi)\n",
    "    dE = energy_per_site(i,j,k) - E_b\n",
    "    if dE < 0:\n",
    "        return True\n",
    "    elif (np.exp(-dE/T) > np.random.uniform(0,1)):\n",
    "        return True\n",
    "    else:\n",
    "        theta[i,j,k] = theta_b\n",
    "        return False"
   ]
  },
  {
   "cell_type": "code",
   "execution_count": 6,
   "id": "5c63267e",
   "metadata": {},
   "outputs": [],
   "source": [
    "def MCMC():\n",
    "    for i in range(N):\n",
    "        v = flip()"
   ]
  },
  {
   "cell_type": "code",
   "execution_count": 7,
   "id": "e18575e0",
   "metadata": {},
   "outputs": [],
   "source": [
    "def magnetization():\n",
    "    mx = np.sum(np.cos(theta))\n",
    "    my = np.sum(np.sin(theta))\n",
    "    return np.sqrt(mx**2 + my**2)/N"
   ]
  },
  {
   "cell_type": "code",
   "execution_count": 8,
   "id": "16630ce4",
   "metadata": {},
   "outputs": [],
   "source": [
    "def runMCMC():\n",
    "    m = 0\n",
    "    for l in range(steps):\n",
    "        m += np.abs(magnetization())\n",
    "        MCMC()\n",
    "    m_abs = m/steps\n",
    "    return m_abs"
   ]
  },
  {
   "cell_type": "code",
   "execution_count": 9,
   "id": "333a94b4",
   "metadata": {},
   "outputs": [],
   "source": [
    "Ts = np.linspace(1,4,50)\n",
    "m_avg = np.zeros(len(Ts))\n",
    "for i in range(len(Ts)):\n",
    "    T = Ts[i]\n",
    "    m_avg[i] = runMCMC()"
   ]
  },
  {
   "cell_type": "code",
   "execution_count": 11,
   "id": "ee2f7f01",
   "metadata": {},
   "outputs": [
    {
     "data": {
      "image/png": "[encoded data removed]",
      "text/plain": [
       "<Figure size 640x480 with 1 Axes>"
      ]
     },
     "metadata": {},
     "output_type": "display_data"
    }
   ],
   "source": [
    "plt.figure()\n",
    "plt.plot(Ts,m_avg,'k.-')\n",
    "plt.xlabel('$T$')\n",
    "plt.ylabel('$m$')\n",
    "plt.xlim(1,4)\n",
    "plt.ylim(0,1)\n",
    "plt.show()"
   ]
  },
  {
   "cell_type": "code",
   "execution_count": 15,
   "id": "0101383b",
   "metadata": {},
   "outputs": [],
   "source": [
    "with open('m_%i.csv' %L, 'w') as my_file:\n",
    "    np.savetxt(my_file,m_avg)"
   ]
  },
  {
   "cell_type": "code",
   "execution_count": null,
   "id": "46450494",
   "metadata": {},
   "outputs": [],
   "source": []
  }
 ],
 "metadata": {
  "kernelspec": {
   "display_name": "Python 3 (ipykernel)",
   "language": "python",
   "name": "python3"
  },
  "language_info": {
   "codemirror_mode": {
    "name": "ipython",
    "version": 3
   },
   "file_extension": ".py",
   "mimetype": "text/x-python",
   "name": "python",
   "nbconvert_exporter": "python",
   "pygments_lexer": "ipython3",
   "version": "3.10.8"
  }
 },
 "nbformat": 4,
 "nbformat_minor": 5
}
